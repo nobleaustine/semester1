{
  "nbformat": 4,
  "nbformat_minor": 0,
  "metadata": {
    "colab": {
      "name": " sequential problems",
      "provenance": []
    },
    "kernelspec": {
      "name": "python3",
      "display_name": "Python 3"
    },
    "language_info": {
      "name": "python"
    }
  },
  "cells": [
    {
      "cell_type": "markdown",
      "source": [
        "1 AVERAGE OF 3 NUMBERS"
      ],
      "metadata": {
        "id": "8D6BuBHCXLi4"
      }
    },
    {
      "cell_type": "code",
      "execution_count": null,
      "metadata": {
        "colab": {
          "base_uri": "https://localhost:8080/"
        },
        "id": "TDqPkeu1RfSU",
        "outputId": "dd7e607f-8348-4b1c-df8d-68b4deead3f0"
      },
      "outputs": [
        {
          "output_type": "stream",
          "name": "stdout",
          "text": [
            "enter the first number: 3\n",
            "enter the second number: 6\n",
            "enter the third number: 9\n",
            "the average of the three numbers is 6.0\n"
          ]
        }
      ],
      "source": [
        "num1 =int(input(\"enter the first number: \"))\n",
        "num2 =int(input(\"enter the second number: \"))\n",
        "num3 =int(input(\"enter the third number: \"))\n",
        "sum =num1+num2+num3\n",
        "avg =sum/3\n",
        "print (\"the average of the three numbers is\",avg)"
      ]
    },
    {
      "cell_type": "markdown",
      "source": [
        "2 SUM & AVERAGE OF 3 NUMBERS"
      ],
      "metadata": {
        "id": "eKM4wGNLXqVQ"
      }
    },
    {
      "cell_type": "code",
      "source": [
        "num1 =int(input(\"enter the first number: \"))\n",
        "num2 =int(input(\"enter the second number: \"))\n",
        "num3 =int(input(\"enter the third number: \"))\n",
        "sum =num1+num2+num3\n",
        "avg =sum/3\n",
        "print (\"the sum of the three numbers is\",sum)\n",
        "print (\"the average of the three numbers is\",avg)\n"
      ],
      "metadata": {
        "colab": {
          "base_uri": "https://localhost:8080/"
        },
        "id": "NM6qNMrhW_82",
        "outputId": "982cd0d5-51bf-4917-bc28-b1596af04f3e"
      },
      "execution_count": null,
      "outputs": [
        {
          "output_type": "stream",
          "name": "stdout",
          "text": [
            "enter the first number: 2\n",
            "enter the second number: 4\n",
            "enter the third number: 6\n",
            "the sum of the three numbers is 12\n",
            "the average of the three numbers is 4.0\n"
          ]
        }
      ]
    },
    {
      "cell_type": "markdown",
      "source": [
        "3 SECONDS TO HOURS, MINUTES,SECONDS"
      ],
      "metadata": {
        "id": "Kt2U-gMbYg2t"
      }
    },
    {
      "cell_type": "code",
      "source": [
        "sec =int(input(\"enter the time in seconds: \"))\n",
        "hour =sec//3600\n",
        "min =(sec%3600)//60\n",
        "secon =(sec%3600)%60\n",
        "print(hour,\"hours\",min,\"minutes\",\"and\",secon,\"seconds\")"
      ],
      "metadata": {
        "id": "FswKL2E6Y3hX",
        "colab": {
          "base_uri": "https://localhost:8080/"
        },
        "outputId": "56d6569d-135d-4815-c241-c1721ccf1940"
      },
      "execution_count": null,
      "outputs": [
        {
          "output_type": "stream",
          "name": "stdout",
          "text": [
            "enter the time in seconds: 7265\n",
            "2 hours 1 minutes and 5 seconds\n"
          ]
        }
      ]
    },
    {
      "cell_type": "markdown",
      "source": [
        "4 **AREA AND PERIMETER OF TRIANGLE**"
      ],
      "metadata": {
        "id": "NV-zAnRV6q0x"
      }
    },
    {
      "cell_type": "code",
      "source": [
        "sid1 =int(input(\"enter the value of side 1: \"))\n",
        "sid2 =int(input(\"enter the value of side 2: \"))\n",
        "sid3 =int(input(\"enter the value of side 3: \"))\n",
        "perimeter=(sid1+sid2+sid3)\n",
        "s=(perimeter/2)\n",
        "area=(s*(s-sid1)*(s-sid2)*(s-sid3))**0.5\n",
        "print(\"perimeter of the triangle is\",perimeter)\n",
        "print(\"area of the triangle is\",area)"
      ],
      "metadata": {
        "colab": {
          "base_uri": "https://localhost:8080/"
        },
        "id": "R2g-B6o47bRy",
        "outputId": "4755fc9a-65ed-4cb7-e42e-00e9e9ab0c5e"
      },
      "execution_count": null,
      "outputs": [
        {
          "output_type": "stream",
          "name": "stdout",
          "text": [
            "enter the value of side 1: 3\n",
            "enter the value of side 2: 4\n",
            "enter the value of side 3: 5\n",
            "perimeter of the triangle is 12\n",
            "area of the triangle is 6.0\n"
          ]
        }
      ]
    },
    {
      "cell_type": "markdown",
      "source": [
        "5 *AREA OF CIRCLE*"
      ],
      "metadata": {
        "id": "8d2O33C5Bdjg"
      }
    },
    {
      "cell_type": "code",
      "source": [
        "rad=int(input(\"enter the radius of the circle: \"))\n",
        "area=(22/7)*(rad**2)\n",
        "print (\"area of the circle is\",area)\n",
        "\n"
      ],
      "metadata": {
        "colab": {
          "base_uri": "https://localhost:8080/"
        },
        "id": "MsWYeVonCBIS",
        "outputId": "aac62c75-a57c-4c5a-bd9a-948f80c0ba0c"
      },
      "execution_count": null,
      "outputs": [
        {
          "output_type": "stream",
          "name": "stdout",
          "text": [
            "enter the radius of the circle: 7\n",
            "area of the circle is 154.0\n"
          ]
        }
      ]
    },
    {
      "cell_type": "markdown",
      "source": [
        "6 SWAPPING OF NUMBERS"
      ],
      "metadata": {
        "id": "beeO-3OuH4uj"
      }
    },
    {
      "cell_type": "code",
      "source": [
        "X=int(input(\"enter the value of X: \"))\n",
        "Y=int(input(\"enter the value of Y: \"))\n",
        "X=X+Y\n",
        "Y=X-Y\n",
        "X=X-Y\n",
        "print(\"the value of X is\",X)\n",
        "print(\"the value of Y is\",Y)\n"
      ],
      "metadata": {
        "colab": {
          "base_uri": "https://localhost:8080/"
        },
        "id": "zdIAJq84IDHq",
        "outputId": "58a800c4-5a3e-471b-ab2d-792e9b48d0f3"
      },
      "execution_count": null,
      "outputs": [
        {
          "output_type": "stream",
          "name": "stdout",
          "text": [
            "enter the value of X: 3\n",
            "enter the value of Y: 6\n",
            "the value of X is 6\n",
            "the value of Y is 3\n"
          ]
        }
      ]
    },
    {
      "cell_type": "markdown",
      "source": [
        "7 SUM,DIFFERENCE,PRODUCT,RATIO,REMINDER AND QUOTIENT OF 2 NUMBERS"
      ],
      "metadata": {
        "id": "ZZTQOjNGJYPs"
      }
    },
    {
      "cell_type": "code",
      "source": [
        "num1 =int(input(\"enter the value of number 1: \"))\n",
        "num2 =int(input(\"enter the value of number 2: \"))\n",
        "sum =num1+num2\n",
        "diff =num1-num2\n",
        "pro =num1*num2\n",
        "rat =num1/num2\n",
        "rem =num1%num2\n",
        "quo =num1//num2\n",
        "print (\"sum of the 2 numbers is\",sum)\n",
        "print (\"difference of the 2 numbers is\",diff)\n",
        "print (\"product of the 2 numbers is\",pro)\n",
        "print (\"ratio of the 2 numbers is\",rat)\n",
        "print (\"reminder of the 2 numbers is\",rem)\n",
        "print (\"quotient of the 2 numbers is\",quo)"
      ],
      "metadata": {
        "colab": {
          "base_uri": "https://localhost:8080/"
        },
        "id": "miy2EwiCJ1Jk",
        "outputId": "e369740a-1384-44bd-f6a9-b967a3d5ec15"
      },
      "execution_count": null,
      "outputs": [
        {
          "output_type": "stream",
          "name": "stdout",
          "text": [
            "enter the value of number 1: 6\n",
            "enter the value of number 2: 2\n",
            "sum of the 2 numbers is 8\n",
            "difference of the 2 numbers is 4\n",
            "product of the 2 numbers is 12\n",
            "ratio of the 2 numbers is 3.0\n",
            "reminder of the 2 numbers is 0\n",
            "quotient of the 2 numbers is 3\n"
          ]
        }
      ]
    },
    {
      "cell_type": "markdown",
      "source": [
        "8 DAYS INTO YEARS,MONTHS AND DAYS"
      ],
      "metadata": {
        "id": "7JrcLGHRXA-q"
      }
    },
    {
      "cell_type": "code",
      "source": [
        "day =int(input(\"enter the number of days: \"))\n",
        "year =day//365\n",
        "mon =(day%365)//30\n",
        "days =(day%365)%30\n",
        "print (year,\"years\",mon,\"months\",\"and\",days,\"days\")"
      ],
      "metadata": {
        "colab": {
          "base_uri": "https://localhost:8080/"
        },
        "id": "JF4PHiwBXMo9",
        "outputId": "803b3458-c648-4657-a720-8e6acdc3e833"
      },
      "execution_count": null,
      "outputs": [
        {
          "output_type": "stream",
          "name": "stdout",
          "text": [
            "enter the number of days: 900\n",
            "2 years 5 months and 20 days\n"
          ]
        }
      ]
    }
  ]
}