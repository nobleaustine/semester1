{
  "nbformat": 4,
  "nbformat_minor": 0,
  "metadata": {
    "colab": {
      "name": "deci 5: check for positive, negative or 0.ipynb",
      "provenance": []
    },
    "kernelspec": {
      "name": "python3",
      "display_name": "Python 3"
    },
    "language_info": {
      "name": "python"
    }
  },
  "cells": [
    {
      "cell_type": "code",
      "execution_count": null,
      "metadata": {
        "colab": {
          "base_uri": "https://localhost:8080/"
        },
        "id": "XBA8JSmBn4Vb",
        "outputId": "d463808f-4e1f-46c4-9226-67276372ce20"
      },
      "outputs": [
        {
          "output_type": "stream",
          "name": "stdout",
          "text": [
            " enter any integer : 0\n",
            " the number is zero \n"
          ]
        }
      ],
      "source": [
        "num1= float(input(\" enter any integer : \"))\n",
        "if(num1>0):\n",
        "  print(\" the number is positive \")\n",
        "elif(num1<0):\n",
        "  print(\" the number is negative \")\n",
        "else:\n",
        " print(\" the number is zero \")"
      ]
    }
  ]
}