{
  "nbformat": 4,
  "nbformat_minor": 0,
  "metadata": {
    "colab": {
      "name": "deci 2: smallest number of the 3.ipynb",
      "provenance": []
    },
    "kernelspec": {
      "name": "python3",
      "display_name": "Python 3"
    },
    "language_info": {
      "name": "python"
    }
  },
  "cells": [
    {
      "cell_type": "code",
      "execution_count": null,
      "metadata": {
        "id": "0YVyv6u_Rxfj",
        "colab": {
          "base_uri": "https://localhost:8080/"
        },
        "outputId": "746ed0ee-8e3a-4b7e-9eb5-786cda07dafc"
      },
      "outputs": [
        {
          "output_type": "stream",
          "name": "stdout",
          "text": [
            " enter number 1 : 9\n",
            " enter number 2 : 6\n",
            " enter number 3 : 3\n",
            " number 3 is the smallest number \n"
          ]
        }
      ],
      "source": [
        "num1= int(input(\" enter number 1 : \"))\n",
        "num2= int(input(\" enter number 2 : \"))\n",
        "num3= int(input(\" enter number 3 : \"))\n",
        "if(num1<num2 and num1<num3):\n",
        "  print(\" number 1 is the smallest number \")\n",
        "elif(num2<num1 and num2<num3):\n",
        "  print(\" number 2 is the smallest number \") \n",
        "else:\n",
        "  print(\" number 3 is the smallest number \")\n"
      ]
    }
  ]
}