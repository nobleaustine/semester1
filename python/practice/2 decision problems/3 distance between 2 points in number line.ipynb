{
  "nbformat": 4,
  "nbformat_minor": 0,
  "metadata": {
    "colab": {
      "name": "deci 3: distance between 2 points in number line.ipynb",
      "provenance": []
    },
    "kernelspec": {
      "name": "python3",
      "display_name": "Python 3"
    },
    "language_info": {
      "name": "python"
    }
  },
  "cells": [
    {
      "cell_type": "code",
      "execution_count": null,
      "metadata": {
        "id": "qu4y22YqVI9a",
        "colab": {
          "base_uri": "https://localhost:8080/"
        },
        "outputId": "5dd04650-66fc-41e8-8334-50b1d4712b7d"
      },
      "outputs": [
        {
          "output_type": "stream",
          "name": "stdout",
          "text": [
            " enter the starting point : 3.5\n",
            " enter the finishing point : .5\n",
            "the distance between the points is  3.0\n"
          ]
        }
      ],
      "source": [
        "num1= float(input(\" enter the starting point : \"))\n",
        "num2= float(input(\" enter the finishing point : \"))\n",
        "dis= num1-num2\n",
        "if(dis>0):\n",
        "  print(\"the distance between the points is \",dis)\n",
        "else:\n",
        "  print(\"the distance between the points is \",-dis)\n",
        "\n"
      ]
    }
  ]
}