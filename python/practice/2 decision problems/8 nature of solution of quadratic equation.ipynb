{
  "nbformat": 4,
  "nbformat_minor": 0,
  "metadata": {
    "colab": {
      "name": "deci 8: nature of solution of quadratic equation.ipynb",
      "provenance": []
    },
    "kernelspec": {
      "name": "python3",
      "display_name": "Python 3"
    },
    "language_info": {
      "name": "python"
    }
  },
  "cells": [
    {
      "cell_type": "code",
      "execution_count": null,
      "metadata": {
        "colab": {
          "base_uri": "https://localhost:8080/"
        },
        "id": "nC5tNWLUuqJC",
        "outputId": "0843faf1-fa08-4e82-cb2f-3434eb2dd25e"
      },
      "outputs": [
        {
          "output_type": "stream",
          "name": "stdout",
          "text": [
            " to find the nature of the roots of a quadratic equation ax^2 + bx + c . enter the value of a : 4\n",
            " enter the value of b : 2\n",
            " enter the value of c : 1\n",
            " the solutions of the quadratic equation is not real and unequal \n"
          ]
        }
      ],
      "source": [
        "a= int(input(\" to find the nature of the roots of a quadratic equation ax^2 + bx + c . enter the value of a : \"))\n",
        "b= int(input(\" enter the value of b : \"))\n",
        "c= int(input(\" enter the value of c : \"))\n",
        "if(((b**2)-(4*a*c))>0):\n",
        "  print(\" the solutions of the quadratic equation is real and unequal \")\n",
        "elif(((b**2)-(4*a*c))==0):\n",
        "  print(\" the solutions of the quadratic equation is real and equal \")\n",
        "else:\n",
        "   print(\" the solutions of the quadratic equation is not real and unequal \")\n"
      ]
    }
  ]
}