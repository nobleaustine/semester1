{
  "nbformat": 4,
  "nbformat_minor": 0,
  "metadata": {
    "colab": {
      "name": "deci 1: greatest number of the 2.ipynb",
      "provenance": []
    },
    "kernelspec": {
      "name": "python3",
      "display_name": "Python 3"
    },
    "language_info": {
      "name": "python"
    }
  },
  "cells": [
    {
      "cell_type": "code",
      "source": [
        "num1= int(input(\" enter number 1 : \"))\n",
        "num2= int(input(\" enter number 2 : \"))\n",
        "if(num1>num2):\n",
        "  print(\" number 1 is the greatest number \")\n",
        "else:\n",
        "  print(\" number 2 is the greatest number \")"
      ],
      "metadata": {
        "id": "DWXjeM08GCwM",
        "colab": {
          "base_uri": "https://localhost:8080/"
        },
        "outputId": "90c33eb1-d9a8-499e-8707-089827308a04"
      },
      "execution_count": null,
      "outputs": [
        {
          "output_type": "stream",
          "name": "stdout",
          "text": [
            " enter number 1 : 3\n",
            " enter number 2 : 6\n",
            " number 2 is the greatest number \n"
          ]
        }
      ]
    }
  ]
}