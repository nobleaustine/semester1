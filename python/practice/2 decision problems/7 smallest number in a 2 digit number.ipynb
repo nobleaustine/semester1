{
  "nbformat": 4,
  "nbformat_minor": 0,
  "metadata": {
    "colab": {
      "name": "deci 7: smallest number in a 2 digit number.ipynb",
      "provenance": []
    },
    "kernelspec": {
      "name": "python3",
      "display_name": "Python 3"
    },
    "language_info": {
      "name": "python"
    }
  },
  "cells": [
    {
      "cell_type": "code",
      "execution_count": null,
      "metadata": {
        "colab": {
          "base_uri": "https://localhost:8080/"
        },
        "id": "KORI3TcnsGzc",
        "outputId": "6f9ed0e7-c76f-4723-edd8-7c6205a33ad6"
      },
      "outputs": [
        {
          "output_type": "stream",
          "name": "stdout",
          "text": [
            " enter any 2 digit number : 64\n",
            " the units digit  4  is the smallest number \n"
          ]
        }
      ],
      "source": [
        "num1= int(input(\" enter any 2 digit number : \"))\n",
        "if(num1<100 and num1>9):\n",
        " tens= num1//10\n",
        " units= num1%10\n",
        " if(tens<units):\n",
        "   print(\" the tens digit \",tens,\" is the smallest number \")\n",
        " else:\n",
        "   print(\" the units digit \",units,\" is the smallest number \") \n",
        "else:\n",
        "   print(\" invalid entry \")"
      ]
    }
  ]
}