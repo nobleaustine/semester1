{
  "nbformat": 4,
  "nbformat_minor": 0,
  "metadata": {
    "colab": {
      "name": "deci 4: 2 digit number or not.ipynb",
      "provenance": []
    },
    "kernelspec": {
      "name": "python3",
      "display_name": "Python 3"
    },
    "language_info": {
      "name": "python"
    }
  },
  "cells": [
    {
      "cell_type": "code",
      "execution_count": null,
      "metadata": {
        "colab": {
          "base_uri": "https://localhost:8080/"
        },
        "id": "GljDsvPkllOx",
        "outputId": "1b0b420d-5b5f-4faf-ee77-64b9605e5218"
      },
      "outputs": [
        {
          "output_type": "stream",
          "name": "stdout",
          "text": [
            " enter any positive integer : 34\n",
            " the integer is a 2 digit number\n"
          ]
        }
      ],
      "source": [
        "num1= int(input(\" enter any positive integer : \"))\n",
        "if(num1>9 and num1<100):\n",
        "  print(\" the integer is a 2 digit number\")\n",
        "else:\n",
        " print(\" the integer is not a 2 digit number\")\n"
      ]
    }
  ]
}