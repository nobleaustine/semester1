{
  "nbformat": 4,
  "nbformat_minor": 0,
  "metadata": {
    "colab": {
      "name": "deci 6:  multiple of other or not.ipynb",
      "provenance": []
    },
    "kernelspec": {
      "name": "python3",
      "display_name": "Python 3"
    },
    "language_info": {
      "name": "python"
    }
  },
  "cells": [
    {
      "cell_type": "code",
      "execution_count": null,
      "metadata": {
        "colab": {
          "base_uri": "https://localhost:8080/"
        },
        "id": "DOzFXMZXqBQ7",
        "outputId": "d6b9d111-bb03-4088-cb73-d071c84e3ceb"
      },
      "outputs": [
        {
          "output_type": "stream",
          "name": "stdout",
          "text": [
            " enter the number to be checked : 12\n",
            " enter the number with which to be checked : 2\n",
            "12  is a multiple of  2\n"
          ]
        }
      ],
      "source": [
        "num1= int(input(\" enter the number to be checked : \"))\n",
        "num2= int(input(\" enter the number with which to be checked : \"))\n",
        "result= num1%num2\n",
        "if(result==0):\n",
        "  print(num1,\" is a multiple of \",num2)\n",
        "else:\n",
        "   print(num1,\" is not a multiple of \",num2)"
      ]
    }
  ]
}