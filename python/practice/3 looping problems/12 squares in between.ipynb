{
  "nbformat": 4,
  "nbformat_minor": 0,
  "metadata": {
    "colab": {
      "name": "loop 12: squares in between.ipynb",
      "provenance": []
    },
    "kernelspec": {
      "name": "python3",
      "display_name": "Python 3"
    },
    "language_info": {
      "name": "python"
    }
  },
  "cells": [
    {
      "cell_type": "code",
      "execution_count": 3,
      "metadata": {
        "colab": {
          "base_uri": "https://localhost:8080/"
        },
        "id": "jWp0yGkG5xYb",
        "outputId": "4b4b0e45-5db5-40ea-bfed-2f567a604a3b"
      },
      "outputs": [
        {
          "output_type": "stream",
          "name": "stdout",
          "text": [
            " To print the squares of natural numbers between an upper limit and lower limit, Enter the upper limit 6\n",
            "Enter the lower limit 3\n",
            "16,25,"
          ]
        }
      ],
      "source": [
        "upl= int(input(\" To print the squares of natural numbers between an upper limit and lower limit, Enter the upper limit \"))\n",
        "lowl= int(input(\"Enter the lower limit \"))\n",
        "for i in range(lowl+1,upl):\n",
        "  print(i**2,end=\",\")"
      ]
    }
  ]
}