{
  "nbformat": 4,
  "nbformat_minor": 0,
  "metadata": {
    "colab": {
      "name": "loop 10: gcd of 2 numbers.ipynb",
      "provenance": []
    },
    "kernelspec": {
      "name": "python3",
      "display_name": "Python 3"
    },
    "language_info": {
      "name": "python"
    }
  },
  "cells": [
    {
      "cell_type": "code",
      "execution_count": 3,
      "metadata": {
        "colab": {
          "base_uri": "https://localhost:8080/"
        },
        "id": "-8Hm4XzFy_By",
        "outputId": "d65b2905-dd27-4bc7-c3ad-19b5e8de07e9"
      },
      "outputs": [
        {
          "output_type": "stream",
          "name": "stdout",
          "text": [
            " To find the GCD of (a,b) { where a>b }  Enter the value of a : 24\n",
            "enter the value of b : 16\n",
            " the gcd of (a,b) is  8\n"
          ]
        }
      ],
      "source": [
        "a= int(input(\" To find the GCD of (a,b) { where a>b }  Enter the value of a : \"))\n",
        "b= int(input(\"enter the value of b : \"))\n",
        "i=1\n",
        "while a%b!=0:\n",
        "  rem= a%b\n",
        "  a= b\n",
        "  b= rem\n",
        "  i=i+1\n",
        "print(\" the gcd of (a,b) is \",rem)"
      ]
    }
  ]
}