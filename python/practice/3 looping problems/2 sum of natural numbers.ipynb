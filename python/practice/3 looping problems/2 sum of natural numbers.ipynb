{
  "nbformat": 4,
  "nbformat_minor": 0,
  "metadata": {
    "colab": {
      "name": "loop 2: sum of natural numbers.ipynb",
      "provenance": []
    },
    "kernelspec": {
      "name": "python3",
      "display_name": "Python 3"
    },
    "language_info": {
      "name": "python"
    }
  },
  "cells": [
    {
      "cell_type": "code",
      "execution_count": 3,
      "metadata": {
        "colab": {
          "base_uri": "https://localhost:8080/"
        },
        "id": "7FJsSxaOUC_N",
        "outputId": "7cf214ff-572f-410d-d545-5f5b03927368"
      },
      "outputs": [
        {
          "output_type": "stream",
          "name": "stdout",
          "text": [
            " enter the value of n to print the sum of natural numbers upto n 10\n",
            "sum=  55\n"
          ]
        }
      ],
      "source": [
        "n= int(input(\" enter the value of n to print the sum of natural numbers upto n \"))\n",
        "sum= 0\n",
        "for i in range(1,n+1):\n",
        " sum= sum+i\n",
        "print(\"sum= \",sum)\n"
      ]
    }
  ]
}