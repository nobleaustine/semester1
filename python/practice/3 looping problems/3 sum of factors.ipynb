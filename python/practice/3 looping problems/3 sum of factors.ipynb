{
  "nbformat": 4,
  "nbformat_minor": 0,
  "metadata": {
    "colab": {
      "name": "loop 3: sum of factors.ipynb",
      "provenance": [],
      "collapsed_sections": []
    },
    "kernelspec": {
      "name": "python3",
      "display_name": "Python 3"
    },
    "language_info": {
      "name": "python"
    }
  },
  "cells": [
    {
      "cell_type": "code",
      "execution_count": 3,
      "metadata": {
        "colab": {
          "base_uri": "https://localhost:8080/"
        },
        "id": "2P7-hbePaQRU",
        "outputId": "5c43546f-c3a9-445a-a1f4-fba745db7749"
      },
      "outputs": [
        {
          "output_type": "stream",
          "name": "stdout",
          "text": [
            "enter any natural number : 6\n",
            "sum of factors =  12\n"
          ]
        }
      ],
      "source": [
        "num= int(input(\"enter any natural number : \"))\n",
        "sum=num+1\n",
        "for i in range(2,(num//2)+1):\n",
        "  if(num%i ==0):\n",
        "    sum= sum+i\n",
        "print(\"sum of factors = \",sum)"
      ]
    }
  ]
}