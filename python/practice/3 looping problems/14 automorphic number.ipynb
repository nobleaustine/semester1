{
  "nbformat": 4,
  "nbformat_minor": 0,
  "metadata": {
    "colab": {
      "name": "loop 14: automorphic number.ipynb",
      "provenance": []
    },
    "kernelspec": {
      "name": "python3",
      "display_name": "Python 3"
    },
    "language_info": {
      "name": "python"
    }
  },
  "cells": [
    {
      "cell_type": "code",
      "execution_count": 5,
      "metadata": {
        "colab": {
          "base_uri": "https://localhost:8080/"
        },
        "id": "4-c6UGcT9qhk",
        "outputId": "602bcb13-12c8-458c-bb2c-5133323f88c5"
      },
      "outputs": [
        {
          "output_type": "stream",
          "name": "stdout",
          "text": [
            "enter any whole number : 4\n",
            "the given number is not an automorphic number\n"
          ]
        }
      ],
      "source": [
        "num1= int(input(\"enter any whole number : \"))\n",
        "num2= num1\n",
        "num3= num1**2\n",
        "i=0\n",
        "while num1%10!=0:\n",
        "  num1=num1//10\n",
        "  i=i+1\n",
        "if(num3%(10**i)==num2):\n",
        "  print(\"the given number is an automorphic number\")\n",
        "else:\n",
        "  print(\"the given number is not an automorphic number\")\n"
      ]
    }
  ]
}