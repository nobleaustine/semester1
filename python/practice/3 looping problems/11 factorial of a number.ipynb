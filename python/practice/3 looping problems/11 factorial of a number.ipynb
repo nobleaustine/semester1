{
  "nbformat": 4,
  "nbformat_minor": 0,
  "metadata": {
    "colab": {
      "name": "loop 11: factorial of a number.ipynb",
      "provenance": []
    },
    "kernelspec": {
      "name": "python3",
      "display_name": "Python 3"
    },
    "language_info": {
      "name": "python"
    }
  },
  "cells": [
    {
      "cell_type": "code",
      "execution_count": 4,
      "metadata": {
        "colab": {
          "base_uri": "https://localhost:8080/"
        },
        "id": "9fHdcHpv1fQL",
        "outputId": "5c41cc25-e957-44d5-c0d6-93a5c98332fc"
      },
      "outputs": [
        {
          "output_type": "stream",
          "name": "stdout",
          "text": [
            "enter any whole number : 6\n",
            " the factorial of the given number is  720\n"
          ]
        }
      ],
      "source": [
        "n= int(input(\"enter any whole number : \"))\n",
        "fac= 1\n",
        "if(n==0):\n",
        "  print(\" the factorial of the given number is 1\")\n",
        "else:\n",
        "  for i in range(1,n+1,1):\n",
        "    fac=fac*i\n",
        "  print(\" the factorial of the given number is \",fac)\n"
      ]
    }
  ]
}