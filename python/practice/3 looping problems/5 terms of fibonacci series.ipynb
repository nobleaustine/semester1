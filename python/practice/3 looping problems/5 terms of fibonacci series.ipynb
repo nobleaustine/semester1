{
  "nbformat": 4,
  "nbformat_minor": 0,
  "metadata": {
    "colab": {
      "name": "loop 5: terms of fibonacci series.ipynb",
      "provenance": []
    },
    "kernelspec": {
      "name": "python3",
      "display_name": "Python 3"
    },
    "language_info": {
      "name": "python"
    }
  },
  "cells": [
    {
      "cell_type": "code",
      "execution_count": 24,
      "metadata": {
        "colab": {
          "base_uri": "https://localhost:8080/"
        },
        "id": "66RpvYDVeHJ5",
        "outputId": "a14e31ef-8a7e-4f50-b061-cfaf29a6660f"
      },
      "outputs": [
        {
          "output_type": "stream",
          "name": "stdout",
          "text": [
            "enter the number of terms of the fibonacci series : 6\n",
            "0\n",
            "1\n",
            "1\n",
            "2\n",
            "3\n",
            "5\n"
          ]
        }
      ],
      "source": [
        "n= int(input(\"enter the number of terms of the fibonacci series : \"))\n",
        "a= 0\n",
        "b= 1\n",
        "c= 0\n",
        "i= 1\n",
        "print(0)\n",
        "print(1)\n",
        "while i<n-1:\n",
        "  c= a + b\n",
        "  print(c)\n",
        "  i= i+1\n",
        "  a= b\n",
        "  b= c\n",
        "  \n"
      ]
    }
  ]
}