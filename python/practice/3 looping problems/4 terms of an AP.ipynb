{
  "nbformat": 4,
  "nbformat_minor": 0,
  "metadata": {
    "colab": {
      "name": "loop 4: terms of an AP.ipynb",
      "provenance": []
    },
    "kernelspec": {
      "name": "python3",
      "display_name": "Python 3"
    },
    "language_info": {
      "name": "python"
    }
  },
  "cells": [
    {
      "cell_type": "code",
      "execution_count": 2,
      "metadata": {
        "colab": {
          "base_uri": "https://localhost:8080/"
        },
        "id": "Mkhn2crBb9pU",
        "outputId": "6675b109-3ad5-4d2f-bb3a-df9bca847291"
      },
      "outputs": [
        {
          "output_type": "stream",
          "name": "stdout",
          "text": [
            "enter the first term of the AP : 2\n",
            "enter the common difference of the AP : 2\n",
            "enter the number of terms of the AP : 10\n",
            "2,4,6,8,10,12,14,16,18,20,"
          ]
        }
      ],
      "source": [
        "a= int(input(\"enter the first term of the AP : \"))\n",
        "d= int(input(\"enter the common difference of the AP : \"))\n",
        "n= int(input(\"enter the number of terms of the AP : \"))\n",
        "for i in range(1,n+1,1):\n",
        "  a_n=a+(i-1)*d\n",
        "  print(a_n,end=\",\")"
      ]
    }
  ]
}