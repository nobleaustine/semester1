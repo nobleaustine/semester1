{
  "nbformat": 4,
  "nbformat_minor": 0,
  "metadata": {
    "colab": {
      "name": "loop 13: 1-4+9-16.ipynb",
      "provenance": [],
      "collapsed_sections": []
    },
    "kernelspec": {
      "name": "python3",
      "display_name": "Python 3"
    },
    "language_info": {
      "name": "python"
    }
  },
  "cells": [
    {
      "cell_type": "code",
      "execution_count": 3,
      "metadata": {
        "colab": {
          "base_uri": "https://localhost:8080/"
        },
        "id": "afM39WGw7z6U",
        "outputId": "34c211ec-fe6b-4940-8e67-25f077c8e7b6"
      },
      "outputs": [
        {
          "output_type": "stream",
          "name": "stdout",
          "text": [
            "enter any natural number : 4\n",
            "the sum is  -10\n"
          ]
        }
      ],
      "source": [
        "n= int(input(\"enter any natural number : \"))\n",
        "sum= 0\n",
        "for i in range(1,n+1):\n",
        "  sum=sum+ ((-1)**(i+1))*((i)**2)\n",
        "print( \"the sum is \",sum)"
      ]
    }
  ]
}