{
  "nbformat": 4,
  "nbformat_minor": 0,
  "metadata": {
    "colab": {
      "name": "loop 6: palindrome or not.ipynb",
      "provenance": []
    },
    "kernelspec": {
      "name": "python3",
      "display_name": "Python 3"
    },
    "language_info": {
      "name": "python"
    }
  },
  "cells": [
    {
      "cell_type": "code",
      "execution_count": 6,
      "metadata": {
        "colab": {
          "base_uri": "https://localhost:8080/"
        },
        "id": "g4ecKblOphlG",
        "outputId": "fc388b6b-f275-4adc-ac11-9ffad86eab69"
      },
      "outputs": [
        {
          "output_type": "stream",
          "name": "stdout",
          "text": [
            "enter any number : 343\n",
            " the number is a palindrome \n"
          ]
        }
      ],
      "source": [
        "num1= int(input(\"enter any number : \"))\n",
        "num2=num1\n",
        "rem=0\n",
        "sum=0\n",
        "i=1\n",
        "while num1!=0:\n",
        "  rem= num1%10\n",
        "  sum= sum*10 + rem\n",
        "  num1= num1//10\n",
        "  i= i+1\n",
        "if(sum==num2):\n",
        "  print(\" the number is a palindrome \")\n",
        "else:\n",
        "  print(\" the number is not a palindrome \")\n"
      ]
    }
  ]
}