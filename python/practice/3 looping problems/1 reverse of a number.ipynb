{
  "nbformat": 4,
  "nbformat_minor": 0,
  "metadata": {
    "colab": {
      "name": "loop 1: reverse of a number.ipynb",
      "provenance": []
    },
    "kernelspec": {
      "name": "python3",
      "display_name": "Python 3"
    },
    "language_info": {
      "name": "python"
    }
  },
  "cells": [
    {
      "cell_type": "code",
      "execution_count": 9,
      "metadata": {
        "colab": {
          "base_uri": "https://localhost:8080/"
        },
        "id": "dQk_flf4PSsF",
        "outputId": "8b6281d1-985f-4575-fb48-3d21928001a0"
      },
      "outputs": [
        {
          "output_type": "stream",
          "name": "stdout",
          "text": [
            " enter any number 369\n",
            "963\n"
          ]
        }
      ],
      "source": [
        "num= int(input(\" enter any number \"))\n",
        "rev= 0\n",
        "rem= 0\n",
        "while num!=0:\n",
        "  rem=num%10\n",
        "  rev=rev*10+rem\n",
        "  num=num//10\n",
        "print(rev)"
      ]
    }
  ]
}