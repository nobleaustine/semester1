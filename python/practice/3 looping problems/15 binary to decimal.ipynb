{
  "nbformat": 4,
  "nbformat_minor": 0,
  "metadata": {
    "colab": {
      "name": "loop 15: binary to decimal.ipynb",
      "provenance": []
    },
    "kernelspec": {
      "name": "python3",
      "display_name": "Python 3"
    },
    "language_info": {
      "name": "python"
    }
  },
  "cells": [
    {
      "cell_type": "code",
      "execution_count": 4,
      "metadata": {
        "colab": {
          "base_uri": "https://localhost:8080/"
        },
        "id": "NcjFDH7jBACL",
        "outputId": "5d79a63b-2f9d-444d-e537-12a429b51158"
      },
      "outputs": [
        {
          "output_type": "stream",
          "name": "stdout",
          "text": [
            "Enter any binary number 101\n",
            "the decimal form is  5\n"
          ]
        }
      ],
      "source": [
        "bin= int(input(\"Enter any binary number \"))\n",
        "sum= 0\n",
        "i=0\n",
        "while bin!=0:\n",
        "  sum= sum + (bin % 10)*(2**i)\n",
        "  bin= bin//10\n",
        "  i=i+1\n",
        "print(\"the decimal form is \",sum)"
      ]
    }
  ]
}