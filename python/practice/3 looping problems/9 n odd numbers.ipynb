{
  "nbformat": 4,
  "nbformat_minor": 0,
  "metadata": {
    "colab": {
      "name": "loop 9: n odd numbers.ipynb",
      "provenance": []
    },
    "kernelspec": {
      "name": "python3",
      "display_name": "Python 3"
    },
    "language_info": {
      "name": "python"
    }
  },
  "cells": [
    {
      "cell_type": "code",
      "execution_count": 4,
      "metadata": {
        "colab": {
          "base_uri": "https://localhost:8080/"
        },
        "id": "Dp8hARoGx1-T",
        "outputId": "5a20a86b-4c09-40d2-a6f4-b8bb2abd7346"
      },
      "outputs": [
        {
          "output_type": "stream",
          "name": "stdout",
          "text": [
            "enter the value of n to print n odd numbers: 3\n",
            "1,3,5,"
          ]
        }
      ],
      "source": [
        "n= int(input(\"enter the value of n to print n odd numbers: \"))\n",
        "for i in range(1,2*n+1,2):\n",
        "  print(i,end=\",\")"
      ]
    }
  ]
}