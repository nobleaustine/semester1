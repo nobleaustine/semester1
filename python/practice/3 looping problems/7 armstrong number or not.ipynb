{
  "nbformat": 4,
  "nbformat_minor": 0,
  "metadata": {
    "colab": {
      "name": "loop 8: armstrong number or not.ipynb",
      "provenance": [],
      "collapsed_sections": []
    },
    "kernelspec": {
      "name": "python3",
      "display_name": "Python 3"
    },
    "language_info": {
      "name": "python"
    }
  },
  "cells": [
    {
      "cell_type": "code",
      "execution_count": 4,
      "metadata": {
        "colab": {
          "base_uri": "https://localhost:8080/"
        },
        "id": "ilOYTdWxuMiA",
        "outputId": "6b5727dc-4814-4c4f-d098-1d4d5fa36052"
      },
      "outputs": [
        {
          "output_type": "stream",
          "name": "stdout",
          "text": [
            "enter any number : 153\n",
            "the number is an armstrong number\n"
          ]
        }
      ],
      "source": [
        "num1= int(input(\"enter any number : \"))\n",
        "num2= num1\n",
        "sum= 0\n",
        "i= 1\n",
        "while num1!=0:\n",
        "  rem= num1%10\n",
        "  sum= sum + rem**3\n",
        "  num1= num1//10\n",
        "  i= i + 1\n",
        "if(sum==num2):\n",
        "  print(\"the number is an armstrong number\")\n",
        "else:\n",
        "  print(\"the number is not an armstrong number\")"
      ]
    }
  ]
}