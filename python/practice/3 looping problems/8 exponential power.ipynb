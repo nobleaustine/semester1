{
  "nbformat": 4,
  "nbformat_minor": 0,
  "metadata": {
    "colab": {
      "name": "loop 8: exponential power.ipynb",
      "provenance": []
    },
    "kernelspec": {
      "name": "python3",
      "display_name": "Python 3"
    },
    "language_info": {
      "name": "python"
    }
  },
  "cells": [
    {
      "cell_type": "code",
      "execution_count": 2,
      "metadata": {
        "colab": {
          "base_uri": "https://localhost:8080/"
        },
        "id": "xh3ddXxp4HeT",
        "outputId": "4dbec7b5-336b-4c91-885a-3b4a748a8b70"
      },
      "outputs": [
        {
          "output_type": "stream",
          "name": "stdout",
          "text": [
            " To find X^n Enter the value of X 6\n",
            " Enter the value of n 3\n",
            " X^n =  216\n"
          ]
        }
      ],
      "source": [
        "X = int(input(\" To find X^n Enter the value of X \"))\n",
        "n = int(input(\" Enter the value of n \"))\n",
        "pro=1\n",
        "i=1\n",
        "while i<=n:\n",
        "  pro=pro*X\n",
        "  i=i+1\n",
        "print(\" X^n = \",pro)"
      ]
    }
  ]
}